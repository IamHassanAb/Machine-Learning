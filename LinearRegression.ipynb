{
 "cells": [
  {
   "cell_type": "markdown",
   "id": "fb04243f-dd92-4822-9de5-401e782e3a3b",
   "metadata": {},
   "source": [
    "## **Linear Regression with Python Scikit Learn**\n",
    "In this task we will predict the score of a student if he/she studies 9.25 hrs/day."
   ]
  },
  {
   "cell_type": "code",
   "execution_count": 1,
   "id": "1fe6c6e1-ed32-4805-9cbe-3f9945b6cd46",
   "metadata": {},
   "outputs": [],
   "source": [
    "import pandas as pd\n",
    "import numpy as np\n",
    "import matplotlib.pyplot as plt\n",
    "%matplotlib inline\n",
    "from sklearn.linear_model import LinearRegression\n",
    "from sklearn.metrics import mean_squared_error\n",
    "from sklearn.model_selection import train_test_split "
   ]
  },
  {
   "cell_type": "code",
   "execution_count": 2,
   "id": "431ee42a-815a-47fe-9705-409eba21129c",
   "metadata": {},
   "outputs": [
    {
     "data": {
      "text/html": [
       "<div>\n",
       "<style scoped>\n",
       "    .dataframe tbody tr th:only-of-type {\n",
       "        vertical-align: middle;\n",
       "    }\n",
       "\n",
       "    .dataframe tbody tr th {\n",
       "        vertical-align: top;\n",
       "    }\n",
       "\n",
       "    .dataframe thead th {\n",
       "        text-align: right;\n",
       "    }\n",
       "</style>\n",
       "<table border=\"1\" class=\"dataframe\">\n",
       "  <thead>\n",
       "    <tr style=\"text-align: right;\">\n",
       "      <th></th>\n",
       "      <th>Hours</th>\n",
       "      <th>Scores</th>\n",
       "    </tr>\n",
       "  </thead>\n",
       "  <tbody>\n",
       "    <tr>\n",
       "      <th>0</th>\n",
       "      <td>2.5</td>\n",
       "      <td>21</td>\n",
       "    </tr>\n",
       "    <tr>\n",
       "      <th>1</th>\n",
       "      <td>5.1</td>\n",
       "      <td>47</td>\n",
       "    </tr>\n",
       "    <tr>\n",
       "      <th>2</th>\n",
       "      <td>3.2</td>\n",
       "      <td>27</td>\n",
       "    </tr>\n",
       "    <tr>\n",
       "      <th>3</th>\n",
       "      <td>8.5</td>\n",
       "      <td>75</td>\n",
       "    </tr>\n",
       "    <tr>\n",
       "      <th>4</th>\n",
       "      <td>3.5</td>\n",
       "      <td>30</td>\n",
       "    </tr>\n",
       "  </tbody>\n",
       "</table>\n",
       "</div>"
      ],
      "text/plain": [
       "   Hours  Scores\n",
       "0    2.5      21\n",
       "1    5.1      47\n",
       "2    3.2      27\n",
       "3    8.5      75\n",
       "4    3.5      30"
      ]
     },
     "execution_count": 2,
     "metadata": {},
     "output_type": "execute_result"
    }
   ],
   "source": [
    "url = 'https://raw.githubusercontent.com/AdiPersonalWorks/Random/master/student_scores%20-%20student_scores.csv'\n",
    "df = pd.read_csv(url)\n",
    "df.head(5)"
   ]
  },
  {
   "cell_type": "markdown",
   "id": "bf7a0abe-5b7e-4ed2-acf3-eb64abd0911e",
   "metadata": {},
   "source": [
    "### **Visualization of Data**\n",
    "In This part we will visualize our data to understand it easily."
   ]
  },
  {
   "cell_type": "code",
   "execution_count": 3,
   "id": "4d488c2f-3060-48f9-a175-453034181a2c",
   "metadata": {},
   "outputs": [
    {
     "data": {
      "image/png": "[encoded data removed]",
      "text/plain": [
       "<Figure size 432x288 with 1 Axes>"
      ]
     },
     "metadata": {
      "needs_background": "light"
     },
     "output_type": "display_data"
    }
   ],
   "source": [
    "plt.scatter(data=df, x='Hours', y='Scores')\n",
    "plt.xlabel('Hours/day')\n",
    "plt.ylabel('Score')\n",
    "plt.show()"
   ]
  },
  {
   "cell_type": "markdown",
   "id": "7b3efe94-6976-4b63-a295-302818a5b342",
   "metadata": {},
   "source": [
    "The above graph shows the correlation is positive between ***Hours*** and ***Scores***\n",
    "\n",
    "Let's confirm it by creating a correlation matrix."
   ]
  },
  {
   "cell_type": "code",
   "execution_count": 4,
   "id": "657d3c83-710d-4185-af73-9f48db059510",
   "metadata": {},
   "outputs": [
    {
     "data": {
      "text/html": [
       "<div>\n",
       "<style scoped>\n",
       "    .dataframe tbody tr th:only-of-type {\n",
       "        vertical-align: middle;\n",
       "    }\n",
       "\n",
       "    .dataframe tbody tr th {\n",
       "        vertical-align: top;\n",
       "    }\n",
       "\n",
       "    .dataframe thead th {\n",
       "        text-align: right;\n",
       "    }\n",
       "</style>\n",
       "<table border=\"1\" class=\"dataframe\">\n",
       "  <thead>\n",
       "    <tr style=\"text-align: right;\">\n",
       "      <th></th>\n",
       "      <th>Hours</th>\n",
       "      <th>Scores</th>\n",
       "    </tr>\n",
       "  </thead>\n",
       "  <tbody>\n",
       "    <tr>\n",
       "      <th>Hours</th>\n",
       "      <td>1.000000</td>\n",
       "      <td>0.976191</td>\n",
       "    </tr>\n",
       "    <tr>\n",
       "      <th>Scores</th>\n",
       "      <td>0.976191</td>\n",
       "      <td>1.000000</td>\n",
       "    </tr>\n",
       "  </tbody>\n",
       "</table>\n",
       "</div>"
      ],
      "text/plain": [
       "           Hours    Scores\n",
       "Hours   1.000000  0.976191\n",
       "Scores  0.976191  1.000000"
      ]
     },
     "execution_count": 4,
     "metadata": {},
     "output_type": "execute_result"
    }
   ],
   "source": [
    "df.corr()"
   ]
  },
  {
   "cell_type": "markdown",
   "id": "c5ab468c-55f3-487b-b188-5997e7b92670",
   "metadata": {},
   "source": [
    "### Spliting the data in ***Inputs(X)*** and ***outputs(y)***"
   ]
  },
  {
   "cell_type": "code",
   "execution_count": 5,
   "id": "9d612134-3ea5-4848-8c61-b8e825adc785",
   "metadata": {},
   "outputs": [],
   "source": [
    "# Inputs\n",
    "X = df['Hours'].values.reshape(-1,1)\n",
    "\n",
    "# Outputs\n",
    "y = df['Scores'].values.reshape(-1,1)"
   ]
  },
  {
   "cell_type": "markdown",
   "id": "f9a7548f-256d-41ca-8c1e-8094225b60c7",
   "metadata": {},
   "source": [
    "### Creating ***Training*** and ***Test*** sets "
   ]
  },
  {
   "cell_type": "code",
   "execution_count": 6,
   "id": "6ae24dc3-299f-405d-a1ea-f7d1ee8f8cd7",
   "metadata": {},
   "outputs": [],
   "source": [
    "# Create training and test sets\n",
    "X_train, X_test, y_train, y_test = train_test_split(X, y, test_size = 0.2, # Test size is 30% of the whole dataset\n",
    "                                                    random_state=42)\n"
   ]
  },
  {
   "cell_type": "markdown",
   "id": "1015c872-0bcc-4571-9cc8-6bdabb6676f4",
   "metadata": {},
   "source": [
    "### Creating a Regressor named ***'reg'*** and train it using ***fit***"
   ]
  },
  {
   "cell_type": "code",
   "execution_count": 7,
   "id": "96f167bd-42bd-46d7-ae57-654debfb1bd1",
   "metadata": {},
   "outputs": [
    {
     "name": "stdout",
     "output_type": "stream",
     "text": [
      "Model Trained\n"
     ]
    }
   ],
   "source": [
    "# Create the regressor: reg_all\n",
    "reg = LinearRegression()\n",
    "\n",
    "# Fit the regressor to the training data\n",
    "reg.fit(X_train,y_train)\n",
    "\n",
    "print('Model Trained')"
   ]
  },
  {
   "cell_type": "markdown",
   "id": "a0996891-887f-4eee-9864-8d78efc8d71c",
   "metadata": {},
   "source": [
    "### Predict values"
   ]
  },
  {
   "cell_type": "code",
   "execution_count": 8,
   "id": "0d4fe0e0-42e4-4bc8-b26f-8e0f760ed4c5",
   "metadata": {},
   "outputs": [
    {
     "data": {
      "text/plain": [
       "(5, 1)"
      ]
     },
     "execution_count": 8,
     "metadata": {},
     "output_type": "execute_result"
    }
   ],
   "source": [
    "y_pred = reg.predict(X_test)\n",
    "y_test.shape"
   ]
  },
  {
   "cell_type": "code",
   "execution_count": 9,
   "id": "1a0e97f9-c7c2-41f0-8b5b-b3cdceafe957",
   "metadata": {},
   "outputs": [
    {
     "data": {
      "text/html": [
       "<div>\n",
       "<style scoped>\n",
       "    .dataframe tbody tr th:only-of-type {\n",
       "        vertical-align: middle;\n",
       "    }\n",
       "\n",
       "    .dataframe tbody tr th {\n",
       "        vertical-align: top;\n",
       "    }\n",
       "\n",
       "    .dataframe thead th {\n",
       "        text-align: right;\n",
       "    }\n",
       "</style>\n",
       "<table border=\"1\" class=\"dataframe\">\n",
       "  <thead>\n",
       "    <tr style=\"text-align: right;\">\n",
       "      <th></th>\n",
       "      <th>Actual</th>\n",
       "      <th>Predicted</th>\n",
       "    </tr>\n",
       "  </thead>\n",
       "  <tbody>\n",
       "    <tr>\n",
       "      <th>0</th>\n",
       "      <td>81</td>\n",
       "      <td>83.188141</td>\n",
       "    </tr>\n",
       "    <tr>\n",
       "      <th>1</th>\n",
       "      <td>30</td>\n",
       "      <td>27.032088</td>\n",
       "    </tr>\n",
       "    <tr>\n",
       "      <th>2</th>\n",
       "      <td>21</td>\n",
       "      <td>27.032088</td>\n",
       "    </tr>\n",
       "    <tr>\n",
       "      <th>3</th>\n",
       "      <td>76</td>\n",
       "      <td>69.633232</td>\n",
       "    </tr>\n",
       "    <tr>\n",
       "      <th>4</th>\n",
       "      <td>62</td>\n",
       "      <td>59.951153</td>\n",
       "    </tr>\n",
       "  </tbody>\n",
       "</table>\n",
       "</div>"
      ],
      "text/plain": [
       "   Actual  Predicted\n",
       "0      81  83.188141\n",
       "1      30  27.032088\n",
       "2      21  27.032088\n",
       "3      76  69.633232\n",
       "4      62  59.951153"
      ]
     },
     "execution_count": 9,
     "metadata": {},
     "output_type": "execute_result"
    }
   ],
   "source": [
    "#Comparing Actual with predicted\n",
    "new_df = pd.DataFrame({'Actual': y_test.flatten(), 'Predicted': y_pred.flatten()})  \n",
    "new_df"
   ]
  },
  {
   "cell_type": "markdown",
   "id": "f4b7b727-2487-41b9-a5fd-138e77796785",
   "metadata": {},
   "source": [
    "### Now, Lets Answer our task question\n",
    "What will be the score of the student that studies 9.25 hrs/day?"
   ]
  },
  {
   "cell_type": "code",
   "execution_count": 10,
   "id": "9cd21110-39bb-4b69-8893-e7006b4c6261",
   "metadata": {},
   "outputs": [
    {
     "name": "stdout",
     "output_type": "stream",
     "text": [
      "\n",
      "No of Hours: 9.25\n",
      "Marks predicted: 92.38611528261494\n"
     ]
    }
   ],
   "source": [
    "hours = np.array(9.25).reshape(-1,1)\n",
    "predicted = reg.predict(hours)\n",
    "print(f'''\n",
    "No of Hours: {hours.flatten()[0]}\n",
    "Marks predicted: {predicted.flatten()[0]}''')"
   ]
  },
  {
   "cell_type": "markdown",
   "id": "706d7f6d-475e-4c8a-924b-8612b92639d7",
   "metadata": {},
   "source": [
    "### Evaluate the Model"
   ]
  },
  {
   "cell_type": "code",
   "execution_count": 12,
   "id": "1083b3dd-9a6e-480f-a28e-b8eea9192442",
   "metadata": {},
   "outputs": [
    {
     "name": "stdout",
     "output_type": "stream",
     "text": [
      "R^2: 0.9678055545167994\n",
      "Root Mean Squared Error: 4.352380006653288\n"
     ]
    }
   ],
   "source": [
    "print(\"R^2: {}\".format(reg.score(X_test, y_test)))\n",
    "rmse = np.sqrt(mean_squared_error(y_test,y_pred))\n",
    "print(\"Root Mean Squared Error: {}\".format(rmse))"
   ]
  },
  {
   "cell_type": "markdown",
   "id": "375cf2fb-9ad2-47e3-ac77-49f0f2fc9d15",
   "metadata": {},
   "source": []
  },
  {
   "cell_type": "code",
   "execution_count": null,
   "id": "8f5eb0dd-95e4-4bff-8132-0fa9c86d1df2",
   "metadata": {},
   "outputs": [],
   "source": []
  }
 ],
 "metadata": {
  "kernelspec": {
   "display_name": "Python 3 (ipykernel)",
   "language": "python",
   "name": "python3"
  },
  "language_info": {
   "codemirror_mode": {
    "name": "ipython",
    "version": 3
   },
   "file_extension": ".py",
   "mimetype": "text/x-python",
   "name": "python",
   "nbconvert_exporter": "python",
   "pygments_lexer": "ipython3",
   "version": "3.9.7"
  }
 },
 "nbformat": 4,
 "nbformat_minor": 5
}
