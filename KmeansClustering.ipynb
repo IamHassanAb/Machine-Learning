{
 "cells": [
  {
   "cell_type": "markdown",
   "id": "fb04243f-dd92-4822-9de5-401e782e3a3b",
   "metadata": {},
   "source": [
    "## **Unsupervised K-Means Clustring with Python Scikit Learn**\n",
    "Predict optimum number of clusters."
   ]
  },
  {
   "cell_type": "code",
   "execution_count": 8,
   "id": "1fe6c6e1-ed32-4805-9cbe-3f9945b6cd46",
   "metadata": {},
   "outputs": [],
   "source": [
    "import pandas as pd\n",
    "import numpy as np\n",
    "import matplotlib.pyplot as plt\n",
    "import matplotlib.cm as cm\n",
    "import seaborn as sns\n",
    "from sklearn import datasets"
   ]
  },
  {
   "cell_type": "code",
   "execution_count": 2,
   "id": "431ee42a-815a-47fe-9705-409eba21129c",
   "metadata": {},
   "outputs": [
    {
     "data": {
      "text/html": [
       "<div>\n",
       "<style scoped>\n",
       "    .dataframe tbody tr th:only-of-type {\n",
       "        vertical-align: middle;\n",
       "    }\n",
       "\n",
       "    .dataframe tbody tr th {\n",
       "        vertical-align: top;\n",
       "    }\n",
       "\n",
       "    .dataframe thead th {\n",
       "        text-align: right;\n",
       "    }\n",
       "</style>\n",
       "<table border=\"1\" class=\"dataframe\">\n",
       "  <thead>\n",
       "    <tr style=\"text-align: right;\">\n",
       "      <th></th>\n",
       "      <th>sepal length (cm)</th>\n",
       "      <th>sepal width (cm)</th>\n",
       "      <th>petal length (cm)</th>\n",
       "      <th>petal width (cm)</th>\n",
       "    </tr>\n",
       "  </thead>\n",
       "  <tbody>\n",
       "    <tr>\n",
       "      <th>0</th>\n",
       "      <td>5.1</td>\n",
       "      <td>3.5</td>\n",
       "      <td>1.4</td>\n",
       "      <td>0.2</td>\n",
       "    </tr>\n",
       "    <tr>\n",
       "      <th>1</th>\n",
       "      <td>4.9</td>\n",
       "      <td>3.0</td>\n",
       "      <td>1.4</td>\n",
       "      <td>0.2</td>\n",
       "    </tr>\n",
       "    <tr>\n",
       "      <th>2</th>\n",
       "      <td>4.7</td>\n",
       "      <td>3.2</td>\n",
       "      <td>1.3</td>\n",
       "      <td>0.2</td>\n",
       "    </tr>\n",
       "    <tr>\n",
       "      <th>3</th>\n",
       "      <td>4.6</td>\n",
       "      <td>3.1</td>\n",
       "      <td>1.5</td>\n",
       "      <td>0.2</td>\n",
       "    </tr>\n",
       "    <tr>\n",
       "      <th>4</th>\n",
       "      <td>5.0</td>\n",
       "      <td>3.6</td>\n",
       "      <td>1.4</td>\n",
       "      <td>0.2</td>\n",
       "    </tr>\n",
       "  </tbody>\n",
       "</table>\n",
       "</div>"
      ],
      "text/plain": [
       "   sepal length (cm)  sepal width (cm)  petal length (cm)  petal width (cm)\n",
       "0                5.1               3.5                1.4               0.2\n",
       "1                4.9               3.0                1.4               0.2\n",
       "2                4.7               3.2                1.3               0.2\n",
       "3                4.6               3.1                1.5               0.2\n",
       "4                5.0               3.6                1.4               0.2"
      ]
     },
     "execution_count": 2,
     "metadata": {},
     "output_type": "execute_result"
    }
   ],
   "source": [
    "# Load the iris dataset\n",
    "iris = datasets.load_iris()\n",
    "df = pd.DataFrame(iris.data, columns = iris.feature_names)\n",
    "df.head() # See the first 5 rows"
   ]
  },
  {
   "cell_type": "markdown",
   "id": "bf7a0abe-5b7e-4ed2-acf3-eb64abd0911e",
   "metadata": {},
   "source": [
    "### *Elbow Method for Selecting Optimum # of clusters**"
   ]
  },
  {
   "cell_type": "code",
   "execution_count": 7,
   "id": "4d488c2f-3060-48f9-a175-453034181a2c",
   "metadata": {},
   "outputs": [
    {
     "name": "stderr",
     "output_type": "stream",
     "text": [
      "C:\\Users\\USER\\anaconda3\\lib\\site-packages\\sklearn\\cluster\\_kmeans.py:1036: UserWarning: KMeans is known to have a memory leak on Windows with MKL, when there are less chunks than available threads. You can avoid it by setting the environment variable OMP_NUM_THREADS=1.\n",
      "  warnings.warn(\n"
     ]
    },
    {
     "data": {
      "image/png": "[encoded data removed]",
      "text/plain": [
       "<Figure size 432x288 with 1 Axes>"
      ]
     },
     "metadata": {
      "needs_background": "light"
     },
     "output_type": "display_data"
    }
   ],
   "source": [
    "from sklearn.cluster import KMeans\n",
    "x = df.iloc[:, :4]\n",
    "\n",
    "# Plotting the Elbow Method result\n",
    "from sklearn.cluster import KMeans\n",
    "sse = []\n",
    "\n",
    "for i in range(1, 11):\n",
    "    kmeans = KMeans(n_clusters = i, init = 'k-means++', \n",
    "                    max_iter = 300, n_init = 10, random_state = 0)\n",
    "    kmeans.fit(x)\n",
    "    sse.append(kmeans.inertia_)\n",
    "    \n",
    "# Plotting the Elbow Method result\n",
    "plt.plot(range(1, 11), sse)\n",
    "plt.title('The elbow method')\n",
    "plt.xlabel('Number of clusters')\n",
    "plt.ylabel('SSE') # Sum of Squared Errors\n",
    "plt.show()"
   ]
  },
  {
   "cell_type": "markdown",
   "id": "e58dc610-56e5-4f22-9751-09ad52328bce",
   "metadata": {},
   "source": [
    "The Optimal No of Clusters are **3**"
   ]
  },
  {
   "cell_type": "code",
   "execution_count": 17,
   "id": "657d3c83-710d-4185-af73-9f48db059510",
   "metadata": {},
   "outputs": [],
   "source": [
    "kmeans = KMeans(n_clusters = 3, init = 'k-means++', \n",
    "                max_iter = 300, n_init = 10, random_state = 0)\n",
    "y_means = kmeans.fit_predict(x)"
   ]
  },
  {
   "cell_type": "code",
   "execution_count": 67,
   "id": "2467cb5f-38b3-47a5-a8f2-796504b384c9",
   "metadata": {},
   "outputs": [],
   "source": [
    "df['prediction'] = y_means"
   ]
  },
  {
   "cell_type": "code",
   "execution_count": 66,
   "id": "162f7a04-4e93-4dbb-8297-246ef5f19a8c",
   "metadata": {},
   "outputs": [
    {
     "data": {
      "image/png": "[encoded data removed]",
      "text/plain": [
       "<Figure size 432x288 with 1 Axes>"
      ]
     },
     "metadata": {
      "needs_background": "light"
     },
     "output_type": "display_data"
    }
   ],
   "source": [
    "sns.set_context(\"notebook\")\n",
    "fig, ax = plt.subplots()\n",
    "sns.scatterplot(x=df['sepal length (cm)'][df['prediction'] == 0], y=df['sepal width (cm)'][df['prediction'] == 0], data=df, ax=ax, label = 'Iris-setosa',alpha=0.5)\n",
    "sns.scatterplot(x=df['sepal length (cm)'][df['prediction'] == 1], y=df['sepal width (cm)'][df['prediction'] == 1], data=df, ax=ax, label = 'Iris-versicolour',alpha=0.5)\n",
    "sns.scatterplot(x=df['sepal length (cm)'][df['prediction'] == 2], y=df['sepal width (cm)'][df['prediction'] == 2], data=df, ax=ax, label = 'Iris-virginica',alpha=0.5)\n",
    "sns.scatterplot(x=kmeans.cluster_centers_[:, 0], y=kmeans.cluster_centers_[:,1], data=kmeans, label = 'Centroids', ax=ax)\n",
    "plt.show()"
   ]
  },
  {
   "cell_type": "code",
   "execution_count": null,
   "id": "c7ff0b56-20c7-4071-9542-298045a7cf6c",
   "metadata": {},
   "outputs": [],
   "source": []
  },
  {
   "cell_type": "code",
   "execution_count": null,
   "id": "9579678a-63bb-48a5-861e-fc25458861be",
   "metadata": {},
   "outputs": [],
   "source": []
  }
 ],
 "metadata": {
  "kernelspec": {
   "display_name": "Python 3 (ipykernel)",
   "language": "python",
   "name": "python3"
  },
  "language_info": {
   "codemirror_mode": {
    "name": "ipython",
    "version": 3
   },
   "file_extension": ".py",
   "mimetype": "text/x-python",
   "name": "python",
   "nbconvert_exporter": "python",
   "pygments_lexer": "ipython3",
   "version": "3.9.12"
  }
 },
 "nbformat": 4,
 "nbformat_minor": 5
}
